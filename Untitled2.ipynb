{
  "nbformat": 4,
  "nbformat_minor": 0,
  "metadata": {
    "colab": {
      "provenance": [],
      "mount_file_id": "1KNKUCVhMcZ9s683ynQyQuPIHZA9fn3NL",
      "authorship_tag": "ABX9TyNzms+YA1m14SQAg/cRSKRj",
      "include_colab_link": true
    },
    "kernelspec": {
      "name": "python3",
      "display_name": "Python 3"
    },
    "language_info": {
      "name": "python"
    }
  },
  "cells": [
    {
      "cell_type": "markdown",
      "metadata": {
        "id": "view-in-github",
        "colab_type": "text"
      },
      "source": [
        "<a href=\"https://colab.research.google.com/github/mohamedsherif301/API/blob/main/Untitled2.ipynb\" target=\"_parent\"><img src=\"https://colab.research.google.com/assets/colab-badge.svg\" alt=\"Open In Colab\"/></a>"
      ]
    },
    {
      "cell_type": "code",
      "execution_count": null,
      "metadata": {
        "id": "aXxhQ6xUGTJH"
      },
      "outputs": [],
      "source": [
        "# 📌 تثبيت مكتبة Kaggle (إذا لم تكن مثبتة)\n",
        "!pip install -q kaggle\n",
        "\n",
        "\n",
        "\n",
        "# 📌 إنشاء مجلد مخفي لحفظ API Key\n",
        "import os\n",
        "os.makedirs('/root/.kaggle', exist_ok=True)\n",
        "\n",
        "# 📌 نقل ملف kaggle.json إلى المجلد الصحيح\n",
        "!mv kaggle.json /root/.kaggle/\n",
        "\n",
        "# 📌 تغيير صلاحيات الملف لحمايته\n",
        "!chmod 600 /root/.kaggle/kaggle.json\n",
        "\n",
        "# 📌 تحميل مجموعة البيانات من Kaggle (عدّل اسم المجموعة)\n",
        "!kaggle datasets download -d uciml/sms-spam-collection-dataset\n",
        "\n",
        "# 📌 فك ضغط البيانات\n",
        "!unzip -o sms-spam-collection-dataset.zip\n"
      ]
    },
    {
      "cell_type": "code",
      "source": [
        "import kagglehub\n",
        "\n",
        "# تحميل أحدث نسخة من مجموعة البيانات\n",
        "path = kagglehub.dataset_download(\"uciml/sms-spam-collection-dataset\")\n",
        "\n",
        "# طباعة المسار لمعرفة مكان تخزين الملف\n",
        "print(\"Path to dataset files:\", path)\n",
        "\n"
      ],
      "metadata": {
        "colab": {
          "base_uri": "https://localhost:8080/"
        },
        "id": "JQzr4i0cHYtI",
        "outputId": "88433dc2-c1dd-4553-f998-ba9931f62573"
      },
      "execution_count": null,
      "outputs": [
        {
          "output_type": "stream",
          "name": "stdout",
          "text": [
            "Path to dataset files: /root/.cache/kagglehub/datasets/uciml/sms-spam-collection-dataset/versions/1\n"
          ]
        }
      ]
    },
    {
      "cell_type": "code",
      "source": [
        "import os\n",
        "\n",
        "# طباعة جميع الملفات الموجودة في المسار\n",
        "print(os.listdir(path))\n"
      ],
      "metadata": {
        "colab": {
          "base_uri": "https://localhost:8080/"
        },
        "id": "BZVqVbx3HnCR",
        "outputId": "1a1abba8-f687-4adc-d5cd-f12eae0a212c"
      },
      "execution_count": null,
      "outputs": [
        {
          "output_type": "stream",
          "name": "stdout",
          "text": [
            "['spam.csv']\n"
          ]
        }
      ]
    },
    {
      "cell_type": "code",
      "source": [
        "import pandas as pd\n",
        "\n",
        "# قراءة الملف وتحديد أول عمودين فقط\n",
        "df = pd.read_csv(f\"{path}/spam.csv\", encoding=\"latin-1\", usecols=[0, 1])\n",
        "\n",
        "# تعيين أسماء الأعمدة بشكل صحيح\n",
        "df.columns = [\"label\", \"text\"]\n",
        "\n",
        "# تحويل القيم إلى Spam و Ham\n",
        "df['label'] = df['label'].map({'spam': 'Spam', 'ham': 'Ham'})\n",
        "\n",
        "# عرض أول 5 صفوف\n",
        "print(df.head())\n",
        "\n",
        "\n"
      ],
      "metadata": {
        "colab": {
          "base_uri": "https://localhost:8080/"
        },
        "id": "kGOmgrpHHu6q",
        "outputId": "9815ef0b-5c75-4fa4-c349-5d97fea8ffdd"
      },
      "execution_count": null,
      "outputs": [
        {
          "output_type": "stream",
          "name": "stdout",
          "text": [
            "  label                                               text\n",
            "0   Ham  Go until jurong point, crazy.. Available only ...\n",
            "1   Ham                      Ok lar... Joking wif u oni...\n",
            "2  Spam  Free entry in 2 a wkly comp to win FA Cup fina...\n",
            "3   Ham  U dun say so early hor... U c already then say...\n",
            "4   Ham  Nah I don't think he goes to usf, he lives aro...\n"
          ]
        }
      ]
    },
    {
      "cell_type": "code",
      "source": [
        "import seaborn as sns\n",
        "import matplotlib.pyplot as plt\n",
        "\n",
        "print(df['label'].value_counts())\n",
        "sns.countplot(x=df['label'])\n",
        "plt.title(\"Distribution of Spam vs Ham\")\n",
        "plt.show()\n"
      ],
      "metadata": {
        "colab": {
          "base_uri": "https://localhost:8080/",
          "height": 545
        },
        "id": "Cw6RGKf7J2_G",
        "outputId": "34e13c68-2b3f-476e-98f9-ab53ae4abb83"
      },
      "execution_count": null,
      "outputs": [
        {
          "output_type": "stream",
          "name": "stdout",
          "text": [
            "label\n",
            "0    4825\n",
            "1     747\n",
            "Name: count, dtype: int64\n"
          ]
        },
        {
          "output_type": "display_data",
          "data": {
            "text/plain": [
              "<Figure size 640x480 with 1 Axes>"
            ],
            "image/png": "[encoded data removed]"
          },
          "metadata": {}
        }
      ]
    },
    {
      "cell_type": "code",
      "source": [
        "import pandas as pd\n",
        "from sklearn.feature_extraction.text import CountVectorizer\n",
        "from sklearn.naive_bayes import MultinomialNB\n",
        "\n",
        "# 1️⃣ تحميل البيانات وتنظيفها\n",
        "df = pd.read_csv(f\"{path}/spam.csv\", encoding=\"latin-1\", usecols=[0, 1])\n",
        "df.columns = [\"label\", \"text\"]\n",
        "df[\"label\"] = df[\"label\"].map({\"spam\": 1, \"ham\": 0})  # تحويل Spam إلى 1 و Ham إلى 0\n",
        "\n",
        "# 2️⃣ تحويل النصوص إلى أرقام باستخدام CountVectorizer\n",
        "vectorizer = CountVectorizer()\n",
        "X = vectorizer.fit_transform(df[\"text\"])\n",
        "y = df[\"label\"]\n",
        "\n",
        "# 3️⃣ تدريب نموذج Naïve Bayes\n",
        "model = MultinomialNB()\n",
        "model.fit(X, y)\n",
        "\n",
        "# 4️⃣ أخذ رسالة من المستخدم\n",
        "user_input = input(\"📩 أدخل رسالة SMS للتحقق: \")\n",
        "\n",
        "# 5️⃣ تحويل الرسالة بنفس الطريقة التي حولنا بها البيانات الأصلية\n",
        "user_input_vectorized = vectorizer.transform([user_input])\n",
        "\n",
        "# 6️⃣ استخدام النموذج للتنبؤ إذا كانت الرسالة Spam أو Ham\n",
        "prediction = model.predict(user_input_vectorized)[0]\n",
        "\n",
        "# 7️⃣ طباعة النتيجة\n",
        "if prediction == 1:\n",
        "    print(\"This Message is Spam⚠️.\")\n",
        "else:\n",
        "    print(\" this message is Ham✅.\")\n",
        "print(\"Accuracy: {:.2f}%\".format(accuracy_score(y_test, y_pred) * 100))\n"
      ],
      "metadata": {
        "colab": {
          "base_uri": "https://localhost:8080/"
        },
        "id": "8II_4zf7Km9I",
        "outputId": "dd82f5cb-8d45-42cd-8d25-24aacc9d6778"
      },
      "execution_count": null,
      "outputs": [
        {
          "output_type": "stream",
          "name": "stdout",
          "text": [
            "📩 أدخل رسالة SMS للتحقق: hay Mohamed Sherif , how are you  in your Faculty ?\n",
            " this message is Ham✅.\n",
            "Accuracy: 96.86%\n"
          ]
        }
      ]
    }
  ]
}